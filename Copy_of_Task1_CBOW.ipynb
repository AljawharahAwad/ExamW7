{
  "cells": [
    {
      "cell_type": "markdown",
      "metadata": {
        "id": "view-in-github",
        "colab_type": "text"
      },
      "source": [
        "<a href=\"https://colab.research.google.com/github/AljawharahAwad/ExamW7/blob/main/Copy_of_Task1_CBOW.ipynb\" target=\"_parent\"><img src=\"https://colab.research.google.com/assets/colab-badge.svg\" alt=\"Open In Colab\"/></a>"
      ]
    },
    {
      "cell_type": "markdown",
      "metadata": {
        "id": "L4G-WdYBozAF"
      },
      "source": [
        "# Continuous Bag of Words (CBOW) Model"
      ]
    },
    {
      "cell_type": "markdown",
      "metadata": {
        "id": "RhS9KCVPpSy2"
      },
      "source": [
        "In this exam, we will create a CBOW model using a sample Arabic traffic corpus. The corpus consists of sentences describing various traffic scenarios. The goal of the CBOW model is to predict a target word based on its surrounding context words."
      ]
    },
    {
      "cell_type": "markdown",
      "metadata": {
        "id": "BmX5AlBspz6g"
      },
      "source": [
        "# Importing Required Libraries"
      ]
    },
    {
      "cell_type": "markdown",
      "metadata": {
        "id": "S6Ba2ibzpydu"
      },
      "source": [
        "In this step, we import the necessary libraries to build and train the Continuous Bag of Words (CBOW) model.\n",
        "\n",
        "- **TensorFlow and Keras**: Used to build the neural network model, including the layers like `Embedding`, `Dense`, and `Lambda`.\n",
        "- **Tokenizer**: A utility from Keras for tokenizing and processing text data.\n",
        "- **NumPy**: Used for handling numerical operations, particularly for processing arrays and data manipulation.\n",
        "\n",
        "These libraries will provide the essential tools for text preprocessing and model development in the upcoming steps.\n",
        "\n",
        "Add more if needed!\n"
      ]
    },
    {
      "cell_type": "code",
      "execution_count": 1,
      "metadata": {
        "id": "vLFR0MF1p2Y2"
      },
      "outputs": [],
      "source": [
        "from tensorflow.keras.layers import Dense, Embedding, Lambda\n",
        "from tensorflow.keras.models import Sequential\n",
        "from tensorflow.keras.preprocessing.text import Tokenizer\n",
        "import tensorflow as tf\n",
        "import numpy as np"
      ]
    },
    {
      "cell_type": "markdown",
      "metadata": {
        "id": "-LHg8WazpVFL"
      },
      "source": [
        "# Preparing the Corpus"
      ]
    },
    {
      "cell_type": "markdown",
      "metadata": {
        "id": "aXDrgRcvoliV"
      },
      "source": [
        "In this step, we initialize the corpus that will be used for training the Continuous Bag of Words (CBOW) model. The corpus consists of Arabic sentences, each of which describes different traffic scenarios.\n",
        "\n",
        "- **Corpus**: A collection of traffic-related sentences in Arabic.\n",
        "\n",
        "This step sets up the text data that we will use in the upcoming stages of tokenization and model training."
      ]
    },
    {
      "cell_type": "code",
      "execution_count": 2,
      "metadata": {
        "id": "qEQJL-CNjjvO"
      },
      "outputs": [],
      "source": [
        "corpus = [\n",
        "    \"الطريق مزدحم اليوم بسبب الحادث المروري الذي حدث صباحاً ويؤدي إلى تأخير كبير في الوصول\",\n",
        "    \"كان الطريق مزدحما للغاية والسيارات متوقفة تقريباً نتيجة الازدحام الشديد والحركة بطيئة جداً ولا تتحسن\",\n",
        "    \"أنا أحب الذهاب إلى السوق في الصباح الباكر لتفادي الازدحام وشراء الخضروات الطازجة دون الانتظار في الطريق\",\n",
        "    \"السيارات بطيئة بسبب الازدحام المروري في الشارع الرئيسي والتأخير في حركة المرور خلال ساعات الذروة\",\n",
        "    \"هناك ازدحام مروري في الشارع بسبب أعمال البناء والحفريات التي تعطل حركة السيارات وتتسبب في تأخير كبير\",\n",
        "    \"ازدحام السيارات يزداد في المساء عندما يبدأ الجميع بالعودة إلى منازلهم من العمل وتتوقف حركة المرور بالكامل\",\n",
        "    \"الطريق السريع يشهد ازدحاما مستمرا خلال فترة الظهيرة بسبب الشاحنات الكبيرة التي تبطئ حركة السير\",\n",
        "    \"الحافلات والسيارات عالقة في الازدحام المروري في المنطقة التجارية مما يؤدي إلى تأخير وصول الناس إلى وجهاتهم\",\n",
        "    \"حركة المرور مزدحمة اليوم بسبب الفعاليات التي تقام في وسط المدينة مما يزيد من صعوبة الوصول إلى هناك\",\n",
        "    \"كان من الصعب جدا القيادة على الطريق الرئيسي اليوم بسبب الازدحام الخانق الذي استمر طوال اليوم\",\n",
        "    \"الطريق إلى المطار مزدحم اليوم بسبب الحوادث المتكررة والتأخيرات الكبيرة في حركة المرور على الطريق السريع\",\n",
        "    \"الشارع مزدحم بالسيارات والحافلات الكبيرة مما يجعل التنقل بطيئًا جدًا ويزيد من وقت الوصول إلى العمل\",\n",
        "    \"ازدحام السيارات في المدينة أصبح مشكلة كبيرة خاصة خلال ساعات الذروة حيث يصعب التحرك بسرعة\",\n",
        "    \"تفاقم الازدحام في الطرق الجانبية بسبب إغلاق الطريق الرئيسي المؤدي إلى وسط المدينة لصيانة الجسر\",\n",
        "    \"ازدحام مروري خانق يواجه السكان يوميًا خلال تنقلهم من وإلى العمل على الطرق السريعة المؤدية إلى المدينة\",\n",
        "    \"التأخيرات المرورية اليوم ناجمة عن سوء الأحوال الجوية والضباب الذي يعيق الرؤية ويبطئ حركة السيارات\",\n",
        "    \"حوادث السير المتكررة على الطريق الزراعي تؤدي إلى ازدحام مروري شديد وتأخير كبير في وصول السيارات\",\n",
        "    \"كانت حركة السير اليوم غير منتظمة بسبب تنظيم حدث رياضي كبير أدى إلى إغلاق بعض الشوارع الرئيسية\",\n",
        "    \"الأعمال الإنشائية في الشارع الرئيسي تسببت في اختناق مروري كامل وتباطؤ في حركة السيارات خلال النهار\",\n",
        "    \"تراكم السيارات عند تقاطع الطرق الرئيسية أدى إلى ازدحام شديد وزيادة كبيرة في مدة الانتظار للوصول إلى الجهة المطلوبة\"\n",
        "]"
      ]
    },
    {
      "cell_type": "markdown",
      "metadata": {
        "id": "TtAp6KPlqBzA"
      },
      "source": [
        "# Defining Vocabulary and Model Parameters"
      ]
    },
    {
      "cell_type": "markdown",
      "metadata": {
        "id": "EOPRl8IfqAHo"
      },
      "source": [
        "In this step, we define key parameters that will be used to configure the CBOW model.\n",
        "\n",
        "- **Vocabulary size**: We calculate the size of the vocabulary based on the number of unique words in the corpus. The `vocab_size` represents the total number of unique tokens (words) in the dataset plus one for padding.\n",
        "  \n",
        "- **Embedding size**: The `embedding_size` defines the dimensionality of the word embeddings. In this case, we set the embedding size to 10, meaning each word will be represented as a 10-dimensional vector in the embedding layer.\n",
        "\n",
        "- **Window size**: The `window_size` defines how many words to the left and right of the target word are considered as context. Here, a window size of 2 means that two words before and two words after the target word will be used as context.\n",
        "\n",
        "These parameters will play an essential role in shaping the CBOW model architecture.\n"
      ]
    },
    {
      "cell_type": "code",
      "execution_count": 3,
      "metadata": {
        "id": "icwJ4As2qEkP"
      },
      "outputs": [],
      "source": [
        "tokenize = Tokenizer()\n",
        "tokenize.fit_on_texts(corpus)\n",
        "sentences = tokenize.texts_to_sequences(corpus)\n",
        "\n",
        "vocab_size = len(tokenize.word_index)+1\n",
        "\n",
        "embadding_size = 10\n",
        "window_size = 2"
      ]
    },
    {
      "cell_type": "markdown",
      "metadata": {
        "id": "w6b35855qQqP"
      },
      "source": [
        "# Preparing Context-Target Pairs for CBOW"
      ]
    },
    {
      "cell_type": "markdown",
      "metadata": {
        "id": "589xXbYmqEuR"
      },
      "source": [
        "In this step, we generate the context-target pairs from the tokenized sequences to train the CBOW model.\n",
        "\n",
        "- **Context words**: For each word in a sequence, the surrounding words (within the window size) are considered as context. The context consists of the words immediately before and after the target word.\n",
        "  \n",
        "- **Target word**: The word in the middle of the context window is treated as the target word that the model will learn to predict.\n",
        "\n",
        "We iterate through each sequence, collecting the context words and corresponding target words:\n",
        "- For each word in a sequence, we gather the surrounding words based on the defined window size.\n",
        "- The middle word is the target, and the surrounding words form the context.\n",
        "\n",
        "Finally:\n",
        "- **`X`**: An array of context words.\n",
        "- **`y`**: The target words are one-hot encoded, which means they are converted into a categorical format where each word is represented as a vector of length equal to the vocabulary size.\n",
        "\n",
        "These context-target pairs will be used to train the CBOW model to predict a target word based on its context.\n"
      ]
    },
    {
      "cell_type": "code",
      "execution_count": 4,
      "metadata": {
        "id": "c8c1MkYOqSfd",
        "colab": {
          "base_uri": "https://localhost:8080/"
        },
        "outputId": "389ede12-7105-4dbd-979c-64db71d60f8a"
      },
      "outputs": [
        {
          "output_type": "stream",
          "name": "stdout",
          "text": [
            "[[3, 19, 7, 4, 47, 20, 21, 30, 48, 49, 2, 22, 12, 1, 23], [31, 3, 50, 51, 32, 52, 53, 54, 8, 55, 56, 33, 57, 58, 59], [60, 61, 62, 2, 63, 1, 64, 65, 66, 8, 67, 68, 69, 70, 34, 1, 3], [6, 33, 4, 8, 20, 1, 13, 14, 71, 1, 5, 15, 10, 35, 36], [37, 9, 16, 1, 13, 4, 72, 73, 74, 24, 75, 5, 6, 76, 1, 22, 12], [9, 6, 77, 1, 78, 79, 80, 81, 82, 2, 83, 11, 25, 84, 5, 15, 85], [3, 38, 86, 87, 88, 10, 89, 90, 4, 91, 26, 24, 92, 5, 27], [93, 32, 94, 1, 8, 20, 1, 95, 96, 28, 97, 2, 22, 39, 98, 2, 99], [5, 15, 100, 7, 4, 101, 24, 102, 1, 40, 17, 28, 103, 11, 104, 23, 2, 37], [31, 11, 105, 106, 107, 18, 3, 14, 7, 4, 8, 108, 21, 109, 110, 7], [3, 2, 111, 19, 7, 4, 112, 41, 113, 26, 1, 5, 15, 18, 3, 38], [13, 19, 114, 115, 26, 28, 116, 117, 118, 119, 120, 11, 121, 23, 2, 25], [9, 6, 1, 17, 122, 123, 42, 124, 10, 35, 36, 125, 126, 127, 128], [129, 8, 1, 29, 130, 4, 43, 3, 14, 131, 2, 40, 17, 132, 133], [9, 16, 134, 135, 136, 137, 10, 138, 11, 139, 25, 18, 29, 140, 141, 2, 17], [142, 143, 7, 144, 145, 146, 147, 148, 149, 21, 150, 151, 152, 5, 6], [153, 27, 41, 18, 3, 154, 155, 2, 9, 16, 44, 156, 12, 1, 39, 6], [157, 5, 27, 7, 158, 159, 4, 160, 30, 161, 12, 45, 2, 43, 162, 163, 46], [164, 165, 1, 13, 14, 166, 1, 167, 16, 168, 169, 1, 5, 6, 10, 170], [171, 6, 172, 173, 29, 46, 45, 2, 9, 44, 174, 42, 1, 175, 34, 176, 2, 177, 178]]\n"
          ]
        }
      ],
      "source": [
        "print(sentences)"
      ]
    },
    {
      "cell_type": "code",
      "source": [
        "context = []\n",
        "target = []\n",
        "\n",
        "for sentence in sentences:\n",
        "  for i in range(window_size, len(sentence) - window_size):\n",
        "     context.append(sentence[i - window_size : i] + sentence[i+1 : i+window_size+1])\n",
        "     target.append(sentence[i])\n",
        "\n",
        "X = np.array(context)\n",
        "y = tf.keras.utils.to_categorical(target, num_classes = vocab_size)"
      ],
      "metadata": {
        "id": "uteJXwjAnIRd"
      },
      "execution_count": 5,
      "outputs": []
    },
    {
      "cell_type": "code",
      "source": [
        "print(X)\n",
        "print('---'*10, '\\n', y)"
      ],
      "metadata": {
        "colab": {
          "base_uri": "https://localhost:8080/"
        },
        "id": "XsSKgweHEAiw",
        "outputId": "4ca3f580-8bfd-4b0c-8d7b-15468816af76"
      },
      "execution_count": 6,
      "outputs": [
        {
          "output_type": "stream",
          "name": "stdout",
          "text": [
            "[[  3  19   4  47]\n",
            " [ 19   7  47  20]\n",
            " [  7   4  20  21]\n",
            " [  4  47  21  30]\n",
            " [ 47  20  30  48]\n",
            " [ 20  21  48  49]\n",
            " [ 21  30  49   2]\n",
            " [ 30  48   2  22]\n",
            " [ 48  49  22  12]\n",
            " [ 49   2  12   1]\n",
            " [  2  22   1  23]\n",
            " [ 31   3  51  32]\n",
            " [  3  50  32  52]\n",
            " [ 50  51  52  53]\n",
            " [ 51  32  53  54]\n",
            " [ 32  52  54   8]\n",
            " [ 52  53   8  55]\n",
            " [ 53  54  55  56]\n",
            " [ 54   8  56  33]\n",
            " [  8  55  33  57]\n",
            " [ 55  56  57  58]\n",
            " [ 56  33  58  59]\n",
            " [ 60  61   2  63]\n",
            " [ 61  62  63   1]\n",
            " [ 62   2   1  64]\n",
            " [  2  63  64  65]\n",
            " [ 63   1  65  66]\n",
            " [  1  64  66   8]\n",
            " [ 64  65   8  67]\n",
            " [ 65  66  67  68]\n",
            " [ 66   8  68  69]\n",
            " [  8  67  69  70]\n",
            " [ 67  68  70  34]\n",
            " [ 68  69  34   1]\n",
            " [ 69  70   1   3]\n",
            " [  6  33   8  20]\n",
            " [ 33   4  20   1]\n",
            " [  4   8   1  13]\n",
            " [  8  20  13  14]\n",
            " [ 20   1  14  71]\n",
            " [  1  13  71   1]\n",
            " [ 13  14   1   5]\n",
            " [ 14  71   5  15]\n",
            " [ 71   1  15  10]\n",
            " [  1   5  10  35]\n",
            " [  5  15  35  36]\n",
            " [ 37   9   1  13]\n",
            " [  9  16  13   4]\n",
            " [ 16   1   4  72]\n",
            " [  1  13  72  73]\n",
            " [ 13   4  73  74]\n",
            " [  4  72  74  24]\n",
            " [ 72  73  24  75]\n",
            " [ 73  74  75   5]\n",
            " [ 74  24   5   6]\n",
            " [ 24  75   6  76]\n",
            " [ 75   5  76   1]\n",
            " [  5   6   1  22]\n",
            " [  6  76  22  12]\n",
            " [  9   6   1  78]\n",
            " [  6  77  78  79]\n",
            " [ 77   1  79  80]\n",
            " [  1  78  80  81]\n",
            " [ 78  79  81  82]\n",
            " [ 79  80  82   2]\n",
            " [ 80  81   2  83]\n",
            " [ 81  82  83  11]\n",
            " [ 82   2  11  25]\n",
            " [  2  83  25  84]\n",
            " [ 83  11  84   5]\n",
            " [ 11  25   5  15]\n",
            " [ 25  84  15  85]\n",
            " [  3  38  87  88]\n",
            " [ 38  86  88  10]\n",
            " [ 86  87  10  89]\n",
            " [ 87  88  89  90]\n",
            " [ 88  10  90   4]\n",
            " [ 10  89   4  91]\n",
            " [ 89  90  91  26]\n",
            " [ 90   4  26  24]\n",
            " [  4  91  24  92]\n",
            " [ 91  26  92   5]\n",
            " [ 26  24   5  27]\n",
            " [ 93  32   1   8]\n",
            " [ 32  94   8  20]\n",
            " [ 94   1  20   1]\n",
            " [  1   8   1  95]\n",
            " [  8  20  95  96]\n",
            " [ 20   1  96  28]\n",
            " [  1  95  28  97]\n",
            " [ 95  96  97   2]\n",
            " [ 96  28   2  22]\n",
            " [ 28  97  22  39]\n",
            " [ 97   2  39  98]\n",
            " [  2  22  98   2]\n",
            " [ 22  39   2  99]\n",
            " [  5  15   7   4]\n",
            " [ 15 100   4 101]\n",
            " [100   7 101  24]\n",
            " [  7   4  24 102]\n",
            " [  4 101 102   1]\n",
            " [101  24   1  40]\n",
            " [ 24 102  40  17]\n",
            " [102   1  17  28]\n",
            " [  1  40  28 103]\n",
            " [ 40  17 103  11]\n",
            " [ 17  28  11 104]\n",
            " [ 28 103 104  23]\n",
            " [103  11  23   2]\n",
            " [ 11 104   2  37]\n",
            " [ 31  11 106 107]\n",
            " [ 11 105 107  18]\n",
            " [105 106  18   3]\n",
            " [106 107   3  14]\n",
            " [107  18  14   7]\n",
            " [ 18   3   7   4]\n",
            " [  3  14   4   8]\n",
            " [ 14   7   8 108]\n",
            " [  7   4 108  21]\n",
            " [  4   8  21 109]\n",
            " [  8 108 109 110]\n",
            " [108  21 110   7]\n",
            " [  3   2  19   7]\n",
            " [  2 111   7   4]\n",
            " [111  19   4 112]\n",
            " [ 19   7 112  41]\n",
            " [  7   4  41 113]\n",
            " [  4 112 113  26]\n",
            " [112  41  26   1]\n",
            " [ 41 113   1   5]\n",
            " [113  26   5  15]\n",
            " [ 26   1  15  18]\n",
            " [  1   5  18   3]\n",
            " [  5  15   3  38]\n",
            " [ 13  19 115  26]\n",
            " [ 19 114  26  28]\n",
            " [114 115  28 116]\n",
            " [115  26 116 117]\n",
            " [ 26  28 117 118]\n",
            " [ 28 116 118 119]\n",
            " [116 117 119 120]\n",
            " [117 118 120  11]\n",
            " [118 119  11 121]\n",
            " [119 120 121  23]\n",
            " [120  11  23   2]\n",
            " [ 11 121   2  25]\n",
            " [  9   6  17 122]\n",
            " [  6   1 122 123]\n",
            " [  1  17 123  42]\n",
            " [ 17 122  42 124]\n",
            " [122 123 124  10]\n",
            " [123  42  10  35]\n",
            " [ 42 124  35  36]\n",
            " [124  10  36 125]\n",
            " [ 10  35 125 126]\n",
            " [ 35  36 126 127]\n",
            " [ 36 125 127 128]\n",
            " [129   8  29 130]\n",
            " [  8   1 130   4]\n",
            " [  1  29   4  43]\n",
            " [ 29 130  43   3]\n",
            " [130   4   3  14]\n",
            " [  4  43  14 131]\n",
            " [ 43   3 131   2]\n",
            " [  3  14   2  40]\n",
            " [ 14 131  40  17]\n",
            " [131   2  17 132]\n",
            " [  2  40 132 133]\n",
            " [  9  16 135 136]\n",
            " [ 16 134 136 137]\n",
            " [134 135 137  10]\n",
            " [135 136  10 138]\n",
            " [136 137 138  11]\n",
            " [137  10  11 139]\n",
            " [ 10 138 139  25]\n",
            " [138  11  25  18]\n",
            " [ 11 139  18  29]\n",
            " [139  25  29 140]\n",
            " [ 25  18 140 141]\n",
            " [ 18  29 141   2]\n",
            " [ 29 140   2  17]\n",
            " [142 143 144 145]\n",
            " [143   7 145 146]\n",
            " [  7 144 146 147]\n",
            " [144 145 147 148]\n",
            " [145 146 148 149]\n",
            " [146 147 149  21]\n",
            " [147 148  21 150]\n",
            " [148 149 150 151]\n",
            " [149  21 151 152]\n",
            " [ 21 150 152   5]\n",
            " [150 151   5   6]\n",
            " [153  27  18   3]\n",
            " [ 27  41   3 154]\n",
            " [ 41  18 154 155]\n",
            " [ 18   3 155   2]\n",
            " [  3 154   2   9]\n",
            " [154 155   9  16]\n",
            " [155   2  16  44]\n",
            " [  2   9  44 156]\n",
            " [  9  16 156  12]\n",
            " [ 16  44  12   1]\n",
            " [ 44 156   1  39]\n",
            " [156  12  39   6]\n",
            " [157   5   7 158]\n",
            " [  5  27 158 159]\n",
            " [ 27   7 159   4]\n",
            " [  7 158   4 160]\n",
            " [158 159 160  30]\n",
            " [159   4  30 161]\n",
            " [  4 160 161  12]\n",
            " [160  30  12  45]\n",
            " [ 30 161  45   2]\n",
            " [161  12   2  43]\n",
            " [ 12  45  43 162]\n",
            " [ 45   2 162 163]\n",
            " [  2  43 163  46]\n",
            " [164 165  13  14]\n",
            " [165   1  14 166]\n",
            " [  1  13 166   1]\n",
            " [ 13  14   1 167]\n",
            " [ 14 166 167  16]\n",
            " [166   1  16 168]\n",
            " [  1 167 168 169]\n",
            " [167  16 169   1]\n",
            " [ 16 168   1   5]\n",
            " [168 169   5   6]\n",
            " [169   1   6  10]\n",
            " [  1   5  10 170]\n",
            " [171   6 173  29]\n",
            " [  6 172  29  46]\n",
            " [172 173  46  45]\n",
            " [173  29  45   2]\n",
            " [ 29  46   2   9]\n",
            " [ 46  45   9  44]\n",
            " [ 45   2  44 174]\n",
            " [  2   9 174  42]\n",
            " [  9  44  42   1]\n",
            " [ 44 174   1 175]\n",
            " [174  42 175  34]\n",
            " [ 42   1  34 176]\n",
            " [  1 175 176   2]\n",
            " [175  34   2 177]\n",
            " [ 34 176 177 178]]\n",
            "------------------------------ \n",
            " [[0. 0. 0. ... 0. 0. 0.]\n",
            " [0. 0. 0. ... 0. 0. 0.]\n",
            " [0. 0. 0. ... 0. 0. 0.]\n",
            " ...\n",
            " [0. 0. 0. ... 0. 0. 0.]\n",
            " [0. 0. 0. ... 1. 0. 0.]\n",
            " [0. 0. 1. ... 0. 0. 0.]]\n"
          ]
        }
      ]
    },
    {
      "cell_type": "markdown",
      "metadata": {
        "id": "hgxmB4fZqU1A"
      },
      "source": [
        "# Building and Training the CBOW Model"
      ]
    },
    {
      "cell_type": "markdown",
      "metadata": {
        "id": "QkXe33DgqSvD"
      },
      "source": [
        "In this step, we build and train the Continuous Bag of Words (CBOW) model using the context-target pairs created earlier.\n",
        "\n",
        "1. **Model architecture**:\n",
        "   - **Embedding layer**: This layer transforms the input context words into dense vector representations (embeddings) of size defined by `embedding_size`. The `input_dim` is set to the vocabulary size, and the `input_length` is twice the window size (since context consists of words from both sides of the target).\n",
        "   \n",
        "   - **Lambda layer**: This layer computes the mean of the context word embeddings. It averages the embeddings of the context words to generate a single representation that will be used to predict the target word.\n",
        "   \n",
        "   - **Dense layer**: This fully connected layer outputs a probability distribution over the vocabulary, using the softmax activation function. It predicts the most likely target word based on the context word embeddings.\n",
        "\n",
        "2. **Compilation**:\n",
        "   The model is compiled using the Adam optimizer and categorical cross-entropy as the loss function, which is suitable for multi-class classification tasks. Accuracy is used as a metric to evaluate the model's performance during training.\n",
        "\n",
        "3. **Training the model**:\n",
        "   The model is trained on the context-target pairs for 500 epochs. During each epoch, the model learns to predict the target word based on the context, refining its weights to improve accuracy.\n",
        "\n",
        "4. **Saving the model weights**:\n",
        "   After training, the model weights are saved to a file (`cbow_model.weights.h5`) for future use. This allows us to load the trained model later without retraining.\n",
        "\n",
        "By the end of this step, the CBOW model will have learned to predict target words based on their surrounding context from the given corpus."
      ]
    },
    {
      "cell_type": "code",
      "source": [
        "model = Sequential([\n",
        "        Embedding(input_dim = vocab_size, output_dim = embadding_size, input_length = 2*window_size),\n",
        "        Lambda(lambda x: tf.reduce_mean(x, axis=1)),\n",
        "        Dense(vocab_size, activation = 'softmax')\n",
        "])\n",
        "\n",
        "model.compile(optimizer = 'adam', loss= 'categorical_crossentropy', metrics = ['accuracy'])\n",
        "\n",
        "model.summary()"
      ],
      "metadata": {
        "colab": {
          "base_uri": "https://localhost:8080/",
          "height": 281
        },
        "id": "1SdyGLXlosCp",
        "outputId": "ddfdcdb7-2510-4907-f6f2-52ce44f008ca"
      },
      "execution_count": 7,
      "outputs": [
        {
          "output_type": "stream",
          "name": "stderr",
          "text": [
            "/usr/local/lib/python3.10/dist-packages/keras/src/layers/core/embedding.py:90: UserWarning: Argument `input_length` is deprecated. Just remove it.\n",
            "  warnings.warn(\n"
          ]
        },
        {
          "output_type": "display_data",
          "data": {
            "text/plain": [
              "\u001b[1mModel: \"sequential\"\u001b[0m\n"
            ],
            "text/html": [
              "<pre style=\"white-space:pre;overflow-x:auto;line-height:normal;font-family:Menlo,'DejaVu Sans Mono',consolas,'Courier New',monospace\"><span style=\"font-weight: bold\">Model: \"sequential\"</span>\n",
              "</pre>\n"
            ]
          },
          "metadata": {}
        },
        {
          "output_type": "display_data",
          "data": {
            "text/plain": [
              "┏━━━━━━━━━━━━━━━━━━━━━━━━━━━━━━━━━━━━━━┳━━━━━━━━━━━━━━━━━━━━━━━━━━━━━┳━━━━━━━━━━━━━━━━━┓\n",
              "┃\u001b[1m \u001b[0m\u001b[1mLayer (type)                        \u001b[0m\u001b[1m \u001b[0m┃\u001b[1m \u001b[0m\u001b[1mOutput Shape               \u001b[0m\u001b[1m \u001b[0m┃\u001b[1m \u001b[0m\u001b[1m        Param #\u001b[0m\u001b[1m \u001b[0m┃\n",
              "┡━━━━━━━━━━━━━━━━━━━━━━━━━━━━━━━━━━━━━━╇━━━━━━━━━━━━━━━━━━━━━━━━━━━━━╇━━━━━━━━━━━━━━━━━┩\n",
              "│ embedding (\u001b[38;5;33mEmbedding\u001b[0m)                │ ?                           │     \u001b[38;5;34m0\u001b[0m (unbuilt) │\n",
              "├──────────────────────────────────────┼─────────────────────────────┼─────────────────┤\n",
              "│ lambda (\u001b[38;5;33mLambda\u001b[0m)                      │ ?                           │     \u001b[38;5;34m0\u001b[0m (unbuilt) │\n",
              "├──────────────────────────────────────┼─────────────────────────────┼─────────────────┤\n",
              "│ dense (\u001b[38;5;33mDense\u001b[0m)                        │ ?                           │     \u001b[38;5;34m0\u001b[0m (unbuilt) │\n",
              "└──────────────────────────────────────┴─────────────────────────────┴─────────────────┘\n"
            ],
            "text/html": [
              "<pre style=\"white-space:pre;overflow-x:auto;line-height:normal;font-family:Menlo,'DejaVu Sans Mono',consolas,'Courier New',monospace\">┏━━━━━━━━━━━━━━━━━━━━━━━━━━━━━━━━━━━━━━┳━━━━━━━━━━━━━━━━━━━━━━━━━━━━━┳━━━━━━━━━━━━━━━━━┓\n",
              "┃<span style=\"font-weight: bold\"> Layer (type)                         </span>┃<span style=\"font-weight: bold\"> Output Shape                </span>┃<span style=\"font-weight: bold\">         Param # </span>┃\n",
              "┡━━━━━━━━━━━━━━━━━━━━━━━━━━━━━━━━━━━━━━╇━━━━━━━━━━━━━━━━━━━━━━━━━━━━━╇━━━━━━━━━━━━━━━━━┩\n",
              "│ embedding (<span style=\"color: #0087ff; text-decoration-color: #0087ff\">Embedding</span>)                │ ?                           │     <span style=\"color: #00af00; text-decoration-color: #00af00\">0</span> (unbuilt) │\n",
              "├──────────────────────────────────────┼─────────────────────────────┼─────────────────┤\n",
              "│ lambda (<span style=\"color: #0087ff; text-decoration-color: #0087ff\">Lambda</span>)                      │ ?                           │     <span style=\"color: #00af00; text-decoration-color: #00af00\">0</span> (unbuilt) │\n",
              "├──────────────────────────────────────┼─────────────────────────────┼─────────────────┤\n",
              "│ dense (<span style=\"color: #0087ff; text-decoration-color: #0087ff\">Dense</span>)                        │ ?                           │     <span style=\"color: #00af00; text-decoration-color: #00af00\">0</span> (unbuilt) │\n",
              "└──────────────────────────────────────┴─────────────────────────────┴─────────────────┘\n",
              "</pre>\n"
            ]
          },
          "metadata": {}
        },
        {
          "output_type": "display_data",
          "data": {
            "text/plain": [
              "\u001b[1m Total params: \u001b[0m\u001b[38;5;34m0\u001b[0m (0.00 B)\n"
            ],
            "text/html": [
              "<pre style=\"white-space:pre;overflow-x:auto;line-height:normal;font-family:Menlo,'DejaVu Sans Mono',consolas,'Courier New',monospace\"><span style=\"font-weight: bold\"> Total params: </span><span style=\"color: #00af00; text-decoration-color: #00af00\">0</span> (0.00 B)\n",
              "</pre>\n"
            ]
          },
          "metadata": {}
        },
        {
          "output_type": "display_data",
          "data": {
            "text/plain": [
              "\u001b[1m Trainable params: \u001b[0m\u001b[38;5;34m0\u001b[0m (0.00 B)\n"
            ],
            "text/html": [
              "<pre style=\"white-space:pre;overflow-x:auto;line-height:normal;font-family:Menlo,'DejaVu Sans Mono',consolas,'Courier New',monospace\"><span style=\"font-weight: bold\"> Trainable params: </span><span style=\"color: #00af00; text-decoration-color: #00af00\">0</span> (0.00 B)\n",
              "</pre>\n"
            ]
          },
          "metadata": {}
        },
        {
          "output_type": "display_data",
          "data": {
            "text/plain": [
              "\u001b[1m Non-trainable params: \u001b[0m\u001b[38;5;34m0\u001b[0m (0.00 B)\n"
            ],
            "text/html": [
              "<pre style=\"white-space:pre;overflow-x:auto;line-height:normal;font-family:Menlo,'DejaVu Sans Mono',consolas,'Courier New',monospace\"><span style=\"font-weight: bold\"> Non-trainable params: </span><span style=\"color: #00af00; text-decoration-color: #00af00\">0</span> (0.00 B)\n",
              "</pre>\n"
            ]
          },
          "metadata": {}
        }
      ]
    },
    {
      "cell_type": "code",
      "source": [
        "model.fit(X,y, batch_size = 32, epochs = 3)"
      ],
      "metadata": {
        "colab": {
          "base_uri": "https://localhost:8080/"
        },
        "id": "zAzKzLQfqBOU",
        "outputId": "93ece16d-613a-4453-f849-b72938114380"
      },
      "execution_count": 8,
      "outputs": [
        {
          "output_type": "stream",
          "name": "stdout",
          "text": [
            "Epoch 1/3\n",
            "\u001b[1m8/8\u001b[0m \u001b[32m━━━━━━━━━━━━━━━━━━━━\u001b[0m\u001b[37m\u001b[0m \u001b[1m1s\u001b[0m 3ms/step - accuracy: 0.0214 - loss: 5.1862   \n",
            "Epoch 2/3\n",
            "\u001b[1m8/8\u001b[0m \u001b[32m━━━━━━━━━━━━━━━━━━━━\u001b[0m\u001b[37m\u001b[0m \u001b[1m0s\u001b[0m 2ms/step - accuracy: 0.0698 - loss: 5.1816  \n",
            "Epoch 3/3\n",
            "\u001b[1m8/8\u001b[0m \u001b[32m━━━━━━━━━━━━━━━━━━━━\u001b[0m\u001b[37m\u001b[0m \u001b[1m0s\u001b[0m 3ms/step - accuracy: 0.0913 - loss: 5.1759 \n"
          ]
        },
        {
          "output_type": "execute_result",
          "data": {
            "text/plain": [
              "<keras.src.callbacks.history.History at 0x7a060feeeb90>"
            ]
          },
          "metadata": {},
          "execution_count": 8
        }
      ]
    },
    {
      "cell_type": "code",
      "source": [
        "model.fit(X,y, batch_size = 32, epochs = 20)"
      ],
      "metadata": {
        "colab": {
          "base_uri": "https://localhost:8080/"
        },
        "id": "DFFscI2VqNQ2",
        "outputId": "696e70ff-3f23-4724-fce3-c2ee709107d9"
      },
      "execution_count": 9,
      "outputs": [
        {
          "output_type": "stream",
          "name": "stdout",
          "text": [
            "Epoch 1/20\n",
            "\u001b[1m8/8\u001b[0m \u001b[32m━━━━━━━━━━━━━━━━━━━━\u001b[0m\u001b[37m\u001b[0m \u001b[1m0s\u001b[0m 2ms/step - accuracy: 0.1066 - loss: 5.1724 \n",
            "Epoch 2/20\n",
            "\u001b[1m8/8\u001b[0m \u001b[32m━━━━━━━━━━━━━━━━━━━━\u001b[0m\u001b[37m\u001b[0m \u001b[1m0s\u001b[0m 2ms/step - accuracy: 0.0990 - loss: 5.1682 \n",
            "Epoch 3/20\n",
            "\u001b[1m8/8\u001b[0m \u001b[32m━━━━━━━━━━━━━━━━━━━━\u001b[0m\u001b[37m\u001b[0m \u001b[1m0s\u001b[0m 3ms/step - accuracy: 0.0952 - loss: 5.1632 \n",
            "Epoch 4/20\n",
            "\u001b[1m8/8\u001b[0m \u001b[32m━━━━━━━━━━━━━━━━━━━━\u001b[0m\u001b[37m\u001b[0m \u001b[1m0s\u001b[0m 2ms/step - accuracy: 0.0937 - loss: 5.1596 \n",
            "Epoch 5/20\n",
            "\u001b[1m8/8\u001b[0m \u001b[32m━━━━━━━━━━━━━━━━━━━━\u001b[0m\u001b[37m\u001b[0m \u001b[1m0s\u001b[0m 3ms/step - accuracy: 0.0739 - loss: 5.1538 \n",
            "Epoch 6/20\n",
            "\u001b[1m8/8\u001b[0m \u001b[32m━━━━━━━━━━━━━━━━━━━━\u001b[0m\u001b[37m\u001b[0m \u001b[1m0s\u001b[0m 3ms/step - accuracy: 0.0720 - loss: 5.1490 \n",
            "Epoch 7/20\n",
            "\u001b[1m8/8\u001b[0m \u001b[32m━━━━━━━━━━━━━━━━━━━━\u001b[0m\u001b[37m\u001b[0m \u001b[1m0s\u001b[0m 2ms/step - accuracy: 0.0932 - loss: 5.1408 \n",
            "Epoch 8/20\n",
            "\u001b[1m8/8\u001b[0m \u001b[32m━━━━━━━━━━━━━━━━━━━━\u001b[0m\u001b[37m\u001b[0m \u001b[1m0s\u001b[0m 2ms/step - accuracy: 0.1032 - loss: 5.1351 \n",
            "Epoch 9/20\n",
            "\u001b[1m8/8\u001b[0m \u001b[32m━━━━━━━━━━━━━━━━━━━━\u001b[0m\u001b[37m\u001b[0m \u001b[1m0s\u001b[0m 3ms/step - accuracy: 0.1229 - loss: 5.1290 \n",
            "Epoch 10/20\n",
            "\u001b[1m8/8\u001b[0m \u001b[32m━━━━━━━━━━━━━━━━━━━━\u001b[0m\u001b[37m\u001b[0m \u001b[1m0s\u001b[0m 2ms/step - accuracy: 0.1075 - loss: 5.1197 \n",
            "Epoch 11/20\n",
            "\u001b[1m8/8\u001b[0m \u001b[32m━━━━━━━━━━━━━━━━━━━━\u001b[0m\u001b[37m\u001b[0m \u001b[1m0s\u001b[0m 2ms/step - accuracy: 0.0721 - loss: 5.1197     \n",
            "Epoch 12/20\n",
            "\u001b[1m8/8\u001b[0m \u001b[32m━━━━━━━━━━━━━━━━━━━━\u001b[0m\u001b[37m\u001b[0m \u001b[1m0s\u001b[0m 3ms/step - accuracy: 0.1136 - loss: 5.1046 \n",
            "Epoch 13/20\n",
            "\u001b[1m8/8\u001b[0m \u001b[32m━━━━━━━━━━━━━━━━━━━━\u001b[0m\u001b[37m\u001b[0m \u001b[1m0s\u001b[0m 2ms/step - accuracy: 0.0995 - loss: 5.0999 \n",
            "Epoch 14/20\n",
            "\u001b[1m8/8\u001b[0m \u001b[32m━━━━━━━━━━━━━━━━━━━━\u001b[0m\u001b[37m\u001b[0m \u001b[1m0s\u001b[0m 2ms/step - accuracy: 0.1350 - loss: 5.0903 \n",
            "Epoch 15/20\n",
            "\u001b[1m8/8\u001b[0m \u001b[32m━━━━━━━━━━━━━━━━━━━━\u001b[0m\u001b[37m\u001b[0m \u001b[1m0s\u001b[0m 2ms/step - accuracy: 0.1276 - loss: 5.0754 \n",
            "Epoch 16/20\n",
            "\u001b[1m8/8\u001b[0m \u001b[32m━━━━━━━━━━━━━━━━━━━━\u001b[0m\u001b[37m\u001b[0m \u001b[1m0s\u001b[0m 2ms/step - accuracy: 0.1037 - loss: 5.0715 \n",
            "Epoch 17/20\n",
            "\u001b[1m8/8\u001b[0m \u001b[32m━━━━━━━━━━━━━━━━━━━━\u001b[0m\u001b[37m\u001b[0m \u001b[1m0s\u001b[0m 2ms/step - accuracy: 0.1045 - loss: 5.0599 \n",
            "Epoch 18/20\n",
            "\u001b[1m8/8\u001b[0m \u001b[32m━━━━━━━━━━━━━━━━━━━━\u001b[0m\u001b[37m\u001b[0m \u001b[1m0s\u001b[0m 2ms/step - accuracy: 0.1258 - loss: 5.0485 \n",
            "Epoch 19/20\n",
            "\u001b[1m8/8\u001b[0m \u001b[32m━━━━━━━━━━━━━━━━━━━━\u001b[0m\u001b[37m\u001b[0m \u001b[1m0s\u001b[0m 2ms/step - accuracy: 0.1425 - loss: 5.0334 \n",
            "Epoch 20/20\n",
            "\u001b[1m8/8\u001b[0m \u001b[32m━━━━━━━━━━━━━━━━━━━━\u001b[0m\u001b[37m\u001b[0m \u001b[1m0s\u001b[0m 2ms/step - accuracy: 0.1291 - loss: 5.0190 \n"
          ]
        },
        {
          "output_type": "execute_result",
          "data": {
            "text/plain": [
              "<keras.src.callbacks.history.History at 0x7a060e3f3730>"
            ]
          },
          "metadata": {},
          "execution_count": 9
        }
      ]
    },
    {
      "cell_type": "code",
      "source": [
        "model.save_weights('cbow_model.weights.h5')"
      ],
      "metadata": {
        "id": "Y1LNACOqqf-H"
      },
      "execution_count": 10,
      "outputs": []
    },
    {
      "cell_type": "markdown",
      "metadata": {
        "id": "mLodiHWkqaL4"
      },
      "source": [
        "# Predicting a Word Using the Trained CBOW Model"
      ]
    },
    {
      "cell_type": "markdown",
      "metadata": {
        "id": "_SRP_chYqYKS"
      },
      "source": [
        "In this step, we define a function to predict a word based on a given context using the trained CBOW model.\n",
        "\n",
        "1. **Function: `predict_word`**:\n",
        "   - **Input**: The function takes a list of context words as input. The number of context words should match the expected size (2 times the window size).\n",
        "   - **Context sequence conversion**: The input context words are tokenized into a sequence of integers using the same tokenizer that was used during training.\n",
        "   - **Input validation**: The function checks whether the length of the context sequence matches the expected size (2 times the window size). If not, it prints an error message.\n",
        "   - **Prediction**: The tokenized context is fed into the trained CBOW model, which predicts the probability distribution over the vocabulary.\n",
        "   - **Retrieve predicted word**: The predicted word is the one with the highest probability. The function retrieves the word corresponding to the predicted index from the tokenizer's word index.\n",
        "\n",
        "2. **Example**:\n",
        "   - We provide a sample context: `['الحادث', 'بسبب', 'مزدحم', 'الطريق']`.\n",
        "   - The function predicts the word that fits best in this context, based on the model's learned weights.\n",
        "   - The predicted word is printed along with the input context.\n",
        "\n",
        "This function allows us to test the CBOW model by predicting words based on their surrounding context from the corpus."
      ]
    },
    {
      "cell_type": "code",
      "source": [
        "def predict_word ( context , window_size ):\n",
        "    if len(context) == 2*window_size:\n",
        "      tokenize.fit_on_texts(context)\n",
        "      sentence = tokenize.texts_to_sequences([context])[0]\n",
        "      prediction = model.predict(np.array([sentence]))\n",
        "      prediction_word = tokenize.index_word.get(prediction.argmax(), 'index not found')\n",
        "      return prediction_word\n",
        "\n",
        "context_emp = ['الطريق', 'مزدحم', 'بسبب', 'الحادث']\n",
        "prediction_word = predict_word(context_emp, window_size)"
      ],
      "metadata": {
        "colab": {
          "base_uri": "https://localhost:8080/"
        },
        "id": "9HZxHWj_q6WY",
        "outputId": "568c5118-5b8a-4b14-a7b5-250b0714a8d9"
      },
      "execution_count": 14,
      "outputs": [
        {
          "output_type": "stream",
          "name": "stdout",
          "text": [
            "\u001b[1m1/1\u001b[0m \u001b[32m━━━━━━━━━━━━━━━━━━━━\u001b[0m\u001b[37m\u001b[0m \u001b[1m0s\u001b[0m 47ms/step\n"
          ]
        }
      ]
    },
    {
      "cell_type": "code",
      "source": [
        "print(prediction_word)\n",
        "context_emp.insert(2, prediction_word)\n",
        "print(context_emp)\n",
        "print(' '.join(context_emp))"
      ],
      "metadata": {
        "colab": {
          "base_uri": "https://localhost:8080/"
        },
        "id": "iEJ6nuYYEc97",
        "outputId": "df8db0ee-c117-4955-dd8f-9e3c4fb57201"
      },
      "execution_count": 17,
      "outputs": [
        {
          "output_type": "stream",
          "name": "stdout",
          "text": [
            "في\n",
            "['الطريق', 'مزدحم', 'في', 'بسبب', 'الحادث']\n",
            "الطريق مزدحم في بسبب الحادث\n"
          ]
        }
      ]
    },
    {
      "cell_type": "code",
      "source": [],
      "metadata": {
        "id": "RAB0fho5t2DI"
      },
      "execution_count": null,
      "outputs": []
    }
  ],
  "metadata": {
    "colab": {
      "provenance": [],
      "include_colab_link": true
    },
    "kernelspec": {
      "display_name": "Python 3",
      "name": "python3"
    },
    "language_info": {
      "name": "python"
    }
  },
  "nbformat": 4,
  "nbformat_minor": 0
}